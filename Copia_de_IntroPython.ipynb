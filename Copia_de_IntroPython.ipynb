{
  "nbformat": 4,
  "nbformat_minor": 0,
  "metadata": {
    "kernelspec": {
      "display_name": "Python 3",
      "language": "python",
      "name": "python3"
    },
    "language_info": {
      "codemirror_mode": {
        "name": "ipython",
        "version": 3
      },
      "file_extension": ".py",
      "mimetype": "text/x-python",
      "name": "python",
      "nbconvert_exporter": "python",
      "pygments_lexer": "ipython3",
      "version": "3.8.5"
    },
    "colab": {
      "name": "Copia de IntroPython.ipynb",
      "provenance": [],
      "collapsed_sections": [
        "V7wzI38DKsxk"
      ]
    }
  },
  "cells": [
    {
      "cell_type": "markdown",
      "metadata": {
        "id": "V7wzI38DKsxk"
      },
      "source": [
        "# Introducción a la programación con Python\n",
        "\n",
        "En este notebook introducimos una cantidad suficiente de Python para poder comenzar a programar por nuestra cuenta y continuar nuestro aprendizaje.\n",
        "\n",
        "El flujo y ejemplos están basados en el tutorial [A Whirlwind Tour of Python](https://jakevdp.github.io/WhirlwindTourOfPython/) de Jake VanderPlas, autor de \"The Python Data Science Handbook\".\n",
        "\n",
        "El contenido está pensado para ser expuesto, modificado y construido durante la clase bajo el método de enseñanza *live-coding*, por lo que se recomienda estudiarlo acompañado del video de la clase.\n",
        "\n",
        "Existen dos versiones, la *bare-bone*, o versión inicial, con un esqueleto del contenido, y la versión final, resultado de la clase."
      ]
    },
    {
      "cell_type": "markdown",
      "metadata": {
        "id": "MWTkfQnqwkHk"
      },
      "source": [
        "# Agenda\n",
        "\n",
        "## 0. Variables y tipos.\n",
        "## 1.  Listas y Diccionarios\n",
        "## 2. Operadores básicos.\n",
        "## 3. Condiciones.\n",
        "## 4. Ciclos.\n",
        "## 5. Funciones.\n",
        "\n"
      ]
    },
    {
      "cell_type": "markdown",
      "metadata": {
        "id": "dQ_qJMnbwObF"
      },
      "source": [
        "## Sintaxis básica en Python\n",
        "### Veamos primero un ejemplo básico de lo que podemos hacer en Python"
      ]
    },
    {
      "cell_type": "markdown",
      "metadata": {
        "id": "NYrGDLV1xMNU"
      },
      "source": [
        "### Primero una suma simple"
      ]
    },
    {
      "cell_type": "code",
      "metadata": {
        "id": "0tJ3OpOlOyT6"
      },
      "source": [
        "x = (1 + 2 + 3 + 4 +                        #aqui el enter no afecta la suma o algo asi\n",
        "    5 + 6 + 7 + 8 + 9)"
      ],
      "execution_count": 3,
      "outputs": []
    },
    {
      "cell_type": "markdown",
      "metadata": {
        "id": "Ad61V7uOxQLv"
      },
      "source": [
        "## Ahora una combinación simple de instrucciones"
      ]
    },
    {
      "cell_type": "code",
      "metadata": {
        "id": "Yurd3FA9xbo6",
        "colab": {
          "base_uri": "https://localhost:8080/"
        },
        "outputId": "c0c85ade-b521-4ae8-9f76-61f8fbb1d90d"
      },
      "source": [
        "# set the midpoint\n",
        "midpoint = 5\n",
        "\n",
        "# make two empty lists\n",
        "lower = []\n",
        "upper = []\n",
        "\n",
        "# split the numbers into lower and upper\n",
        "for i in range(10):\n",
        "    if (i < midpoint):\n",
        "        lower.append(i)\n",
        "    else:\n",
        "        upper.append(i)\n",
        "        \n",
        "print(\"lower:\", lower)\n",
        "print(\"upper:\", upper)"
      ],
      "execution_count": 4,
      "outputs": [
        {
          "output_type": "stream",
          "name": "stdout",
          "text": [
            "lower: [0, 1, 2, 3, 4]\n",
            "upper: [5, 6, 7, 8, 9]\n"
          ]
        }
      ]
    },
    {
      "cell_type": "markdown",
      "metadata": {
        "id": "Ud-Em2B6yCpO"
      },
      "source": [
        "## Python es noble con la sintaxis"
      ]
    },
    {
      "cell_type": "code",
      "metadata": {
        "id": "Dh-xMWagQc57",
        "colab": {
          "base_uri": "https://localhost:8080/"
        },
        "outputId": "e8b3f741-de4a-4250-b5b8-ad2449333e87"
      },
      "source": [
        "x = 1 +                                 2                           #El espacio en blanco dentro de las líneas no importa\n",
        "x"
      ],
      "execution_count": 5,
      "outputs": [
        {
          "output_type": "execute_result",
          "data": {
            "text/plain": [
              "3"
            ]
          },
          "metadata": {},
          "execution_count": 5
        }
      ]
    },
    {
      "cell_type": "markdown",
      "metadata": {
        "id": "asekzt5r0hOa"
      },
      "source": [
        "## Algunas notas de Python\n",
        "- Los comentarios están marcados con #\n",
        "- Fin de línea finaliza una declaración\n",
        "- El punto y coma puede opcionalmente terminar una declaración\n",
        "- Sangría: ¡el espacio en blanco importa!\n",
        "- El espacio en blanco dentro de las líneas no importa\n",
        "- Los paréntesis son para agrupar o llamar"
      ]
    },
    {
      "cell_type": "markdown",
      "metadata": {
        "id": "SN1N1ZNSySOd"
      },
      "source": [
        "## Ahora nuestro primer programita en Python"
      ]
    },
    {
      "cell_type": "code",
      "metadata": {
        "id": "KrgmmPvV7_aP",
        "colab": {
          "base_uri": "https://localhost:8080/"
        },
        "outputId": "57ccd66f-9160-4403-b4b6-2c427343e559"
      },
      "source": [
        "print(\"Hola, Mundo!\", x)"
      ],
      "execution_count": 6,
      "outputs": [
        {
          "output_type": "stream",
          "name": "stdout",
          "text": [
            "Hola, Mundo! 3\n"
          ]
        }
      ]
    },
    {
      "cell_type": "markdown",
      "metadata": {
        "id": "lpenQGogyb6G"
      },
      "source": [
        "## Las listas son de las estructuras de datos mas utilizadas de Python"
      ]
    },
    {
      "cell_type": "code",
      "metadata": {
        "id": "KBzaTB7zRSML",
        "colab": {
          "base_uri": "https://localhost:8080/"
        },
        "outputId": "067e82cb-9758-4116-d2eb-df6fca4dae1f"
      },
      "source": [
        "L = [4, 2, 3, 1]\n",
        "print(L)"
      ],
      "execution_count": 7,
      "outputs": [
        {
          "output_type": "stream",
          "name": "stdout",
          "text": [
            "[4, 2, 3, 1]\n"
          ]
        }
      ]
    },
    {
      "cell_type": "markdown",
      "metadata": {
        "id": "6sUCRJXTyqcY"
      },
      "source": [
        "### Hasta la podemos ordenar"
      ]
    },
    {
      "cell_type": "code",
      "metadata": {
        "id": "LKw4-t6ZRYuB",
        "colab": {
          "base_uri": "https://localhost:8080/"
        },
        "outputId": "d4fd7ff6-21e1-4b40-81d2-b013b2225440"
      },
      "source": [
        "L.sort()\n",
        "L"
      ],
      "execution_count": 8,
      "outputs": [
        {
          "output_type": "execute_result",
          "data": {
            "text/plain": [
              "[1, 2, 3, 4]"
            ]
          },
          "metadata": {},
          "execution_count": 8
        }
      ]
    },
    {
      "cell_type": "markdown",
      "metadata": {
        "id": "5UVwrIGcwTzy"
      },
      "source": [
        "## Variables\n",
        "\n",
        "- Las variables de Python son punteros\n",
        "- Todo es un objeto\n",
        "\n",
        "|Type|\tExample|\tDescription\n",
        "|---|---|---|\n",
        "int\t|x = 1|\tintegers (i.e., whole numbers)\n",
        "float\t|x = 1.0\t|floating-point numbers (i.e., real numbers)\n",
        "complex\t|x = 1 + 2j|\tComplex numbers (i.e., numbers with real and imaginary part)\n",
        "bool\t|x = True|\tBoolean: True/False values\n",
        "str\t|x = 'abc'|\tString: characters or text\n",
        "NoneType|\tx = None|\tSpecial object indicating nulls"
      ]
    },
    {
      "cell_type": "markdown",
      "metadata": {
        "id": "hXJEBJTWy7C_"
      },
      "source": [
        "Las variables son **ubicaciones de memoria reservada** para guardar valores y en Python no se declaran explícitamente.\n",
        "\n",
        "Usamos  el signo igual (=) para crear asignaciones de variables.\n",
        "\n",
        "El operando del lado izquierdo del **signo igual (=) es el nombre de la variable**, y el operando de la derecha es el valor guardado en esa variable."
      ]
    },
    {
      "cell_type": "markdown",
      "metadata": {
        "id": "D4HkIVrSzQ7w"
      },
      "source": [
        "# Definiendo una variable\n",
        "\n",
        "Podemos crear una variable llamada edad y asignarle un valor numérico:\n",
        "\n",
        "**edad = 33**\n",
        "\n",
        "O crear otra variable donde guardamos tu nombre como cadena de caracteres:\n",
        "\n",
        "**nombre = “Ada Lovelace”**\n"
      ]
    },
    {
      "cell_type": "code",
      "metadata": {
        "id": "BMBaPdSV8xc7"
      },
      "source": [
        "Age=21"
      ],
      "execution_count": 9,
      "outputs": []
    },
    {
      "cell_type": "code",
      "metadata": {
        "id": "JQlT4LgPzbgi"
      },
      "source": [
        "Name=\"Daniel\""
      ],
      "execution_count": 10,
      "outputs": []
    },
    {
      "cell_type": "markdown",
      "metadata": {
        "id": "mtpj5EN2zheO"
      },
      "source": [
        "# Listas y diccionarios"
      ]
    },
    {
      "cell_type": "markdown",
      "metadata": {
        "id": "H_CIjqEqznqT"
      },
      "source": [
        "Una Lista puede guardar todo tipo de variables, y puede contener cuantas variables desees.\n",
        "\n",
        "Los valores guardados en una lista se pueden acceder usando el operador slice ([ ] y [:]) con índices en 0 al inicio de la lista y hasta el final -1.\n",
        "\n",
        "Los diccionarios son similares a las listas, pero funcionan con llaves(claves) y valores en vez de índices."
      ]
    },
    {
      "cell_type": "markdown",
      "metadata": {
        "id": "rju0J4WczqbN"
      },
      "source": [
        "## Declarando una lista\n",
        "\n",
        "Podemos crear una lista y asignarle cualquier tipo de dato como números y cadenas de caracteres:\n",
        "\n",
        "\n",
        "lista = [ 'abcd', 389 , 2.25, 'Willemien', 70.2 ]\n",
        "\n",
        "\n",
        "lista_pequena = [123, 'Will']\n"
      ]
    },
    {
      "cell_type": "code",
      "metadata": {
        "id": "HZz9b10tSJNA"
      },
      "source": [
        "x = [17,2.56,'Dann',96.58]\n"
      ],
      "execution_count": 11,
      "outputs": []
    },
    {
      "cell_type": "code",
      "metadata": {
        "id": "0qG-kBjPSP6m"
      },
      "source": [
        "list_guests=['Charlie','Juan','David','Eduardo','Davo']"
      ],
      "execution_count": 12,
      "outputs": []
    },
    {
      "cell_type": "code",
      "source": [
        "list_guests"
      ],
      "metadata": {
        "id": "Oyf7G6wmAz4e",
        "colab": {
          "base_uri": "https://localhost:8080/"
        },
        "outputId": "5176bd52-6e8a-4f15-bf6a-75ae4041de39"
      },
      "execution_count": 13,
      "outputs": [
        {
          "output_type": "execute_result",
          "data": {
            "text/plain": [
              "['Charlie', 'Juan', 'David', 'Eduardo', 'Davo']"
            ]
          },
          "metadata": {},
          "execution_count": 13
        }
      ]
    },
    {
      "cell_type": "markdown",
      "metadata": {
        "id": "WqijJy-4wbzY"
      },
      "source": [
        "# Operadores"
      ]
    },
    {
      "cell_type": "markdown",
      "metadata": {
        "id": "fArm64_B0lCi"
      },
      "source": [
        "# Operadores básicos\n",
        "Como en cualquier lenguaje moderno, podemos hacer operaciones matemáticas como adición, sustracción, multiplicación y división.\n",
        "\n",
        "Los operadores +, -, * y / sirven para manipular números o variables que contengan números y realizar cálculos desde Python.\n",
        "\n",
        "# Usando operadores básicos\n",
        "Podemos crear una variable para guardar el resultado de una suma, multiplicación y división:\n",
        "\n",
        "numero_final = 1 + 2 * 3 / 4 \n",
        "print(numero_final)\n",
        "\n",
        "También podemos hacer adición de cadenas de caracteres:\n",
        "\n",
        "sapere_aude = \"sapere\" + \" \" + \"aude\"\n",
        "print(sapere_aude)\n"
      ]
    },
    {
      "cell_type": "markdown",
      "metadata": {
        "id": "khCfSYGN-QMG"
      },
      "source": [
        "### Operadores aritméticos\n",
        "\n",
        "\n",
        "|Operator\t|Name\t\n",
        "| ----- - | --- \n",
        "a + b\t| Suma\n",
        "a - b\t| Resta\n",
        "a * b\t| Multiplicación\n",
        "a / b\t| Division\t\n",
        "a // b | Division entera\n",
        "a % b | Módulo\t\n",
        "a ** b | Exponenciación\n",
        "-a | Negación\n",
        " +a | Unary \n",
        " @ | Producto de matrices"
      ]
    },
    {
      "cell_type": "code",
      "metadata": {
        "id": "knXxLixZ_ebT",
        "colab": {
          "base_uri": "https://localhost:8080/"
        },
        "outputId": "1a7ec6f6-39ac-46a6-e724-5f9f135cec1c"
      },
      "source": [
        "division_entera=16//8\n",
        "print(division_entera)"
      ],
      "execution_count": 14,
      "outputs": [
        {
          "output_type": "stream",
          "name": "stdout",
          "text": [
            "2\n"
          ]
        }
      ]
    },
    {
      "cell_type": "code",
      "metadata": {
        "id": "_AMAsKwLYo2J",
        "colab": {
          "base_uri": "https://localhost:8080/"
        },
        "outputId": "dae815d3-6000-4a30-da00-145d1ae084b8"
      },
      "source": [
        "modulo=100%14\n",
        "print(modulo)"
      ],
      "execution_count": 15,
      "outputs": [
        {
          "output_type": "stream",
          "name": "stdout",
          "text": [
            "2\n"
          ]
        }
      ]
    },
    {
      "cell_type": "code",
      "source": [
        "expo=2**2\n",
        "print(expo)"
      ],
      "metadata": {
        "id": "OOxYHqq_A1i_",
        "colab": {
          "base_uri": "https://localhost:8080/"
        },
        "outputId": "b4b17648-ef7c-4086-a48e-58f53dd9ef6e"
      },
      "execution_count": 16,
      "outputs": [
        {
          "output_type": "stream",
          "name": "stdout",
          "text": [
            "4\n"
          ]
        }
      ]
    },
    {
      "cell_type": "markdown",
      "metadata": {
        "id": "7uLXONgE-Uxf"
      },
      "source": [
        "### Operaciones bit a bit\n",
        "\n",
        "|Operator\t|Name\t\n",
        "| --- | --- |\n",
        "|a & b\t|Bitwise AND\t\n",
        "|a \\| b\t|Bitwise OR\t\n",
        "|a ^ b\t|Bitwise XOR\t\n",
        "|a << b\t|Bit shift left\t\n",
        "|a >> b\t|Bit shift right\t\n",
        "|~a\t|Bitwise NOT\t\n"
      ]
    },
    {
      "cell_type": "code",
      "metadata": {
        "id": "QPKl-v_E-Oh_",
        "colab": {
          "base_uri": "https://localhost:8080/"
        },
        "outputId": "7603dab2-446c-4afd-a07a-53c4c9ff3101"
      },
      "source": [
        "#Asignación de variables\n",
        "a=3\n",
        "b=5\n",
        "print(a^b)"
      ],
      "execution_count": 17,
      "outputs": [
        {
          "output_type": "stream",
          "name": "stdout",
          "text": [
            "6\n"
          ]
        }
      ]
    },
    {
      "cell_type": "code",
      "metadata": {
        "id": "BM1kmSdCZESH",
        "colab": {
          "base_uri": "https://localhost:8080/"
        },
        "outputId": "69e92b40-63a5-4f1e-9476-b84de9d8763a"
      },
      "source": [
        "#Asignación de variables\n",
        "a=3\n",
        "b=8\n",
        "if a and b:\n",
        "  print('Los números son correctos')"
      ],
      "execution_count": 18,
      "outputs": [
        {
          "output_type": "stream",
          "name": "stdout",
          "text": [
            "Los números son correctos\n"
          ]
        }
      ]
    },
    {
      "cell_type": "code",
      "metadata": {
        "id": "wCVc0HalZK6w",
        "colab": {
          "base_uri": "https://localhost:8080/"
        },
        "outputId": "ddc4a47e-b04b-4f37-cf7d-db11c9d15360"
      },
      "source": [
        "#Asignación de variables\n",
        "a=3\n",
        "b=8\n",
        "if a or b:\n",
        "  print('Los números son correctos')"
      ],
      "execution_count": 19,
      "outputs": [
        {
          "output_type": "stream",
          "name": "stdout",
          "text": [
            "Los números son correctos\n"
          ]
        }
      ]
    },
    {
      "cell_type": "markdown",
      "metadata": {
        "id": "Pjx_unYGAXT0"
      },
      "source": [
        "### Operaciones de asignación\n",
        "\n",
        "| | | | |\n",
        "| --- | --- | --- | --- |\n",
        "|a += b|\ta -= b|\ta *= b\t|a /= b|\n",
        "|a //= b|\ta %= b|\ta **= b|\ta &= b|\n",
        "|a \\|= b|\ta ^= b|\ta <<= b\t|a >>= b|"
      ]
    },
    {
      "cell_type": "code",
      "metadata": {
        "id": "SfC5p3DdZZ_v",
        "colab": {
          "base_uri": "https://localhost:8080/"
        },
        "outputId": "45a91da8-bc09-45a0-b704-9674ca3ef67e"
      },
      "source": [
        "r=5\n",
        "r+=10\n",
        "r"
      ],
      "execution_count": 20,
      "outputs": [
        {
          "output_type": "execute_result",
          "data": {
            "text/plain": [
              "15"
            ]
          },
          "metadata": {},
          "execution_count": 20
        }
      ]
    },
    {
      "cell_type": "code",
      "metadata": {
        "id": "xn8It8mCZc6T",
        "colab": {
          "base_uri": "https://localhost:8080/"
        },
        "outputId": "53d9e21e-2b1b-4e81-9dcb-18ffbab78c80"
      },
      "source": [
        "a=5\n",
        "a%=10\n",
        "a"
      ],
      "execution_count": 21,
      "outputs": [
        {
          "output_type": "execute_result",
          "data": {
            "text/plain": [
              "5"
            ]
          },
          "metadata": {},
          "execution_count": 21
        }
      ]
    },
    {
      "cell_type": "code",
      "source": [
        "a=2\n",
        "a**=4\n",
        "a"
      ],
      "metadata": {
        "id": "_cBCmhMqA2HQ",
        "colab": {
          "base_uri": "https://localhost:8080/"
        },
        "outputId": "c89114f4-6d64-4ecb-b844-33343dbc5d5d"
      },
      "execution_count": 22,
      "outputs": [
        {
          "output_type": "execute_result",
          "data": {
            "text/plain": [
              "16"
            ]
          },
          "metadata": {},
          "execution_count": 22
        }
      ]
    },
    {
      "cell_type": "markdown",
      "metadata": {
        "id": "-7NF3WOxA1_U"
      },
      "source": [
        "### Operadores de comparación\n",
        "\n",
        "| | |\n",
        "|---|---|\n",
        "|a == b| a != b|\n",
        "|a < b  | a > b\n",
        "|a <= b |\ta >= b"
      ]
    },
    {
      "cell_type": "code",
      "metadata": {
        "id": "1G5pON9oZps5",
        "colab": {
          "base_uri": "https://localhost:8080/"
        },
        "outputId": "530e0496-77be-4c10-bce4-e5b029a77817"
      },
      "source": [
        "a=5\n",
        "b=4\n",
        "if a == b:\n",
        "  print('Tus valores son iguales')\n",
        "else:\n",
        "  print('Los valores no son los mismos')"
      ],
      "execution_count": 23,
      "outputs": [
        {
          "output_type": "stream",
          "name": "stdout",
          "text": [
            "Los valores no son los mismos\n"
          ]
        }
      ]
    },
    {
      "cell_type": "code",
      "metadata": {
        "id": "3cjK2LH5Z01L",
        "colab": {
          "base_uri": "https://localhost:8080/"
        },
        "outputId": "5e37bc9f-25e1-4325-9dc6-660f80dacf70"
      },
      "source": [
        "a=5\n",
        "b=4\n",
        "if a != b:\n",
        "  print('Tus valores no son iguales')\n",
        "else:\n",
        "  print('Los valores son los mismos')"
      ],
      "execution_count": 24,
      "outputs": [
        {
          "output_type": "stream",
          "name": "stdout",
          "text": [
            "Tus valores no son iguales\n"
          ]
        }
      ]
    },
    {
      "cell_type": "code",
      "source": [
        "a=2\n",
        "b=4\n",
        "if a <= b:\n",
        "  print('El valor de a: ', a, 'es menor que b: ', b)\n",
        "else:\n",
        "  print('Los valores son los mismos')"
      ],
      "metadata": {
        "id": "YZ8cJJ-NA2qk",
        "colab": {
          "base_uri": "https://localhost:8080/"
        },
        "outputId": "e6eced11-b067-42ef-eeb7-23a4c8df49c5"
      },
      "execution_count": 25,
      "outputs": [
        {
          "output_type": "stream",
          "name": "stdout",
          "text": [
            "El valor de a:  2 es menor que b:  4\n"
          ]
        }
      ]
    },
    {
      "cell_type": "markdown",
      "metadata": {
        "id": "26BWEl-LBlRB"
      },
      "source": [
        "### Operaciones Booleanas\n",
        "\n",
        "| | | |\n",
        "| --- | --- | --- |\n",
        "|and | or | not|"
      ]
    },
    {
      "cell_type": "code",
      "metadata": {
        "id": "t4C1ZPDMaG07",
        "colab": {
          "base_uri": "https://localhost:8080/"
        },
        "outputId": "6b57db94-c167-4efc-921d-7fdbddf1a5ce"
      },
      "source": [
        "True and False"
      ],
      "execution_count": 26,
      "outputs": [
        {
          "output_type": "execute_result",
          "data": {
            "text/plain": [
              "False"
            ]
          },
          "metadata": {},
          "execution_count": 26
        }
      ]
    },
    {
      "cell_type": "code",
      "metadata": {
        "id": "Hk1-lQAeaRpK",
        "colab": {
          "base_uri": "https://localhost:8080/"
        },
        "outputId": "30cb7157-92a8-4a03-df01-d9fffae1587b"
      },
      "source": [
        "True or False"
      ],
      "execution_count": 27,
      "outputs": [
        {
          "output_type": "execute_result",
          "data": {
            "text/plain": [
              "True"
            ]
          },
          "metadata": {},
          "execution_count": 27
        }
      ]
    },
    {
      "cell_type": "code",
      "source": [
        "not False"
      ],
      "metadata": {
        "id": "i2os8jEtA3NZ",
        "colab": {
          "base_uri": "https://localhost:8080/"
        },
        "outputId": "97529a15-d39c-401a-9ab2-29b124d132c9"
      },
      "execution_count": 28,
      "outputs": [
        {
          "output_type": "execute_result",
          "data": {
            "text/plain": [
              "True"
            ]
          },
          "metadata": {},
          "execution_count": 28
        }
      ]
    },
    {
      "cell_type": "markdown",
      "metadata": {
        "id": "iQV4tGokCgOJ"
      },
      "source": [
        "### Identity and Membership Operators\n",
        "\n",
        "> Bloque con sangría\n",
        "\n",
        "\n",
        "\n",
        "| | |\n",
        "| - | -|\n",
        "|a is b|\tTrue if a and b are identical objects\n",
        "a is not b|\tTrue if a and b are not identical objects\n",
        "a in b |\tTrue if a is a member of b\n",
        "a not in b\t|True if a is not a member of b"
      ]
    },
    {
      "cell_type": "code",
      "metadata": {
        "id": "i6oaKyE2aanR",
        "colab": {
          "base_uri": "https://localhost:8080/"
        },
        "outputId": "0b9a7bf1-958c-47d1-ac26-f2d3d007db4c"
      },
      "source": [
        "a=[1,2,3.5]\n",
        "a is b\n",
        "if a == b:\n",
        "  print('Las listas:',a, b,'son iguales')\n",
        "else:\n",
        "  print('Las listas:',a,b,' no son iguales')"
      ],
      "execution_count": 29,
      "outputs": [
        {
          "output_type": "stream",
          "name": "stdout",
          "text": [
            "Las listas: [1, 2, 3.5] 4  no son iguales\n"
          ]
        }
      ]
    },
    {
      "cell_type": "code",
      "metadata": {
        "id": "Zk0Lri6CajcW",
        "colab": {
          "base_uri": "https://localhost:8080/"
        },
        "outputId": "da258961-ae8e-4678-c313-73d1c1b0dc77"
      },
      "source": [
        "'''x=5.2\n",
        "if (type(x) is not int):\n",
        "  print('True')\n",
        "else: \n",
        "  print('False')'''\n",
        "a=1\n",
        "if (type(a) is not list):\n",
        "  print('No tienes una lista')\n",
        "else:\n",
        "  print('Tienes una lista')\n"
      ],
      "execution_count": 30,
      "outputs": [
        {
          "output_type": "stream",
          "name": "stdout",
          "text": [
            "No tienes una lista\n"
          ]
        }
      ]
    },
    {
      "cell_type": "code",
      "metadata": {
        "id": "KTfHicBJamSL",
        "colab": {
          "base_uri": "https://localhost:8080/"
        },
        "outputId": "378e203d-a97b-4f99-d1fc-6648b348f214"
      },
      "source": [
        "a=[1,2,3,4]\n",
        "b=7\n",
        "if (b in a):\n",
        "  print('El termino b: ',b,'está dentro de a:',a)\n",
        "else:\n",
        "  print('Ese término no está contenido en a.')"
      ],
      "execution_count": 31,
      "outputs": [
        {
          "output_type": "stream",
          "name": "stdout",
          "text": [
            "Ese término no está contenido en a.\n"
          ]
        }
      ]
    },
    {
      "cell_type": "code",
      "metadata": {
        "id": "fJRkth5Vaplv",
        "colab": {
          "base_uri": "https://localhost:8080/"
        },
        "outputId": "6b7e0bb7-8058-4011-a6e3-e1b4d698d8b3"
      },
      "source": [
        "a=[1,2,3,4]\n",
        "b=7\n",
        "if (b not in a):\n",
        "  print('El termino b: ',b,'está no está dentro de a:',a)\n",
        "else:\n",
        "  print('Ese término si está contenido en a.')"
      ],
      "execution_count": 32,
      "outputs": [
        {
          "output_type": "stream",
          "name": "stdout",
          "text": [
            "El termino b:  7 está no está dentro de a: [1, 2, 3, 4]\n"
          ]
        }
      ]
    },
    {
      "cell_type": "markdown",
      "metadata": {
        "id": "60K_ktBRwshv"
      },
      "source": [
        "## Estructuras de datos incorporadas\n",
        "\n",
        "|Type Name| Example|\tDescription|\n",
        "|-|-|-|\n",
        "list|\t[1, 2, 3]\t|Ordered collection\n",
        "tuple|\t(1, 2, 3)|\tImmutable ordered collection\n",
        "dict|\t{'a':1, 'b':2, 'c':3}|\tUnordered (key,value) mapping (insertion ordered 3.7+)\n",
        "set\t|{1, 2, 3}|\tUnordered collection of unique values"
      ]
    },
    {
      "cell_type": "code",
      "metadata": {
        "id": "6K5R3Y4uce19",
        "colab": {
          "base_uri": "https://localhost:8080/"
        },
        "outputId": "dee4775d-a80a-465c-8f3b-3f101a5a2340"
      },
      "source": [
        "list=[1,2,3]\n",
        "list"
      ],
      "execution_count": 33,
      "outputs": [
        {
          "output_type": "execute_result",
          "data": {
            "text/plain": [
              "[1, 2, 3]"
            ]
          },
          "metadata": {},
          "execution_count": 33
        }
      ]
    },
    {
      "cell_type": "code",
      "metadata": {
        "id": "fU80msD2cf0f",
        "colab": {
          "base_uri": "https://localhost:8080/"
        },
        "outputId": "38d5cd6a-a7a3-4202-8b2d-77305a43c01f"
      },
      "source": [
        "tuple=(1,2,3)\n",
        "print(tuple)\n",
        "print(tuple[-1])"
      ],
      "execution_count": 34,
      "outputs": [
        {
          "output_type": "stream",
          "name": "stdout",
          "text": [
            "(1, 2, 3)\n",
            "3\n"
          ]
        }
      ]
    },
    {
      "cell_type": "code",
      "metadata": {
        "id": "7_agAnsZcmEa",
        "colab": {
          "base_uri": "https://localhost:8080/"
        },
        "outputId": "146a8304-3e14-4daa-f281-a96f965e15db"
      },
      "source": [
        "dict={1:'D',2:'a',3:'n',4:'n'}\n",
        "print(dict)\n",
        "print(dict[1])"
      ],
      "execution_count": 35,
      "outputs": [
        {
          "output_type": "stream",
          "name": "stdout",
          "text": [
            "{1: 'D', 2: 'a', 3: 'n', 4: 'n'}\n",
            "D\n"
          ]
        }
      ]
    },
    {
      "cell_type": "code",
      "metadata": {
        "id": "FaMdhj6ecp9Q",
        "colab": {
          "base_uri": "https://localhost:8080/"
        },
        "outputId": "2ad3fd3b-22ff-4fe2-8090-99e7cc8a9a98"
      },
      "source": [
        "dict={1:'Dinosaurio',2:'Abeja',3:'Niño',4:'Nudo'}\n",
        "print(dict)\n",
        "print(dict[2])"
      ],
      "execution_count": 36,
      "outputs": [
        {
          "output_type": "stream",
          "name": "stdout",
          "text": [
            "{1: 'Dinosaurio', 2: 'Abeja', 3: 'Niño', 4: 'Nudo'}\n",
            "Abeja\n"
          ]
        }
      ]
    },
    {
      "cell_type": "code",
      "metadata": {
        "id": "N13KoCijcuze",
        "colab": {
          "base_uri": "https://localhost:8080/"
        },
        "outputId": "9b2d4cd1-b7ef-4af8-8b0f-3eb9cb15d6b4"
      },
      "source": [
        "set={\"Manzana\",\"Piña\",\"Cerveza\"}\n",
        "print(set)"
      ],
      "execution_count": 37,
      "outputs": [
        {
          "output_type": "stream",
          "name": "stdout",
          "text": [
            "{'Piña', 'Cerveza', 'Manzana'}\n"
          ]
        }
      ]
    },
    {
      "cell_type": "markdown",
      "metadata": {
        "id": "MvDKNgH8IeHq"
      },
      "source": [
        "#### List comprehension"
      ]
    },
    {
      "cell_type": "markdown",
      "metadata": {
        "id": "VkaqP4srrGQH"
      },
      "source": [
        "Métodos útiles para listas:\n",
        "- append\n",
        "- count\n",
        "- index\n",
        "- sort\n",
        "- reverse"
      ]
    },
    {
      "cell_type": "markdown",
      "metadata": {
        "id": "_eS-uI48OXig"
      },
      "source": [
        "### Tuplas"
      ]
    },
    {
      "cell_type": "code",
      "metadata": {
        "id": "5p_tamwtc2Tv",
        "colab": {
          "base_uri": "https://localhost:8080/"
        },
        "outputId": "a48d9950-58d3-4fbc-eb6f-6f840f4db16e"
      },
      "source": [
        "calificaciones=[10,9.5,8]\n",
        "calificaciones.append(10)\n",
        "calificaciones"
      ],
      "execution_count": 38,
      "outputs": [
        {
          "output_type": "execute_result",
          "data": {
            "text/plain": [
              "[10, 9.5, 8, 10]"
            ]
          },
          "metadata": {},
          "execution_count": 38
        }
      ]
    },
    {
      "cell_type": "code",
      "metadata": {
        "id": "Bk56eOzRc7Uf",
        "colab": {
          "base_uri": "https://localhost:8080/"
        },
        "outputId": "aaeb26f0-c59c-443f-dad8-0cb5db65bca9"
      },
      "source": [
        "calificaciones=[10,9.5,8]\n",
        "calificaciones.count(10)"
      ],
      "execution_count": 39,
      "outputs": [
        {
          "output_type": "execute_result",
          "data": {
            "text/plain": [
              "1"
            ]
          },
          "metadata": {},
          "execution_count": 39
        }
      ]
    },
    {
      "cell_type": "code",
      "metadata": {
        "id": "c_W0cPUPdIZm",
        "colab": {
          "base_uri": "https://localhost:8080/"
        },
        "outputId": "42898ba8-2e45-4e9c-9d9c-c78f02bd2a3a"
      },
      "source": [
        "calificaciones=[10,9.5,8]\n",
        "calificaciones.index(9.5)"
      ],
      "execution_count": 40,
      "outputs": [
        {
          "output_type": "execute_result",
          "data": {
            "text/plain": [
              "1"
            ]
          },
          "metadata": {},
          "execution_count": 40
        }
      ]
    },
    {
      "cell_type": "code",
      "metadata": {
        "id": "8yt1X9cRdT24",
        "colab": {
          "base_uri": "https://localhost:8080/"
        },
        "outputId": "8d3f449c-4152-4cd2-cd71-ee2c944d5d60"
      },
      "source": [
        "calificaciones=[10,9.5,8]\n",
        "calificaciones.sort()\n",
        "calificaciones"
      ],
      "execution_count": 41,
      "outputs": [
        {
          "output_type": "execute_result",
          "data": {
            "text/plain": [
              "[8, 9.5, 10]"
            ]
          },
          "metadata": {},
          "execution_count": 41
        }
      ]
    },
    {
      "cell_type": "code",
      "metadata": {
        "id": "sqIuJ4u4djzJ",
        "colab": {
          "base_uri": "https://localhost:8080/"
        },
        "outputId": "2f5327d3-96d7-4d8b-90aa-7723a3ff310c"
      },
      "source": [
        "calificaciones=[10,7,8]\n",
        "calificaciones.reverse()\n",
        "calificaciones"
      ],
      "execution_count": 42,
      "outputs": [
        {
          "output_type": "execute_result",
          "data": {
            "text/plain": [
              "[8, 7, 10]"
            ]
          },
          "metadata": {},
          "execution_count": 42
        }
      ]
    },
    {
      "cell_type": "markdown",
      "metadata": {
        "id": "sT48IcS3OERZ"
      },
      "source": [
        "### Diccionarios"
      ]
    },
    {
      "cell_type": "code",
      "metadata": {
        "id": "srUvzeH6dtXx",
        "colab": {
          "base_uri": "https://localhost:8080/"
        },
        "outputId": "a8f6e11e-f404-4503-9c6e-fd1b6c9a014d"
      },
      "source": [
        "# key: value pair\n",
        "dulces={1:'Paletas',2:'Bombones',3:'Cacahuates'}\n",
        "dulces"
      ],
      "execution_count": 43,
      "outputs": [
        {
          "output_type": "execute_result",
          "data": {
            "text/plain": [
              "{1: 'Paletas', 2: 'Bombones', 3: 'Cacahuates'}"
            ]
          },
          "metadata": {},
          "execution_count": 43
        }
      ]
    },
    {
      "cell_type": "code",
      "metadata": {
        "id": "IVCtE9t7d-Mk",
        "colab": {
          "base_uri": "https://localhost:8080/"
        },
        "outputId": "b1ace9c9-ebc2-4cc8-d80d-1c19800613e4"
      },
      "source": [
        "dulces_carac={1:['Semaforo','Cerveza','Corazón'],2:'Bombones',3:'Cacahuates'}\n",
        "dulces_carac"
      ],
      "execution_count": 44,
      "outputs": [
        {
          "output_type": "execute_result",
          "data": {
            "text/plain": [
              "{1: ['Semaforo', 'Cerveza', 'Corazón'], 2: 'Bombones', 3: 'Cacahuates'}"
            ]
          },
          "metadata": {},
          "execution_count": 44
        }
      ]
    },
    {
      "cell_type": "code",
      "metadata": {
        "id": "movyR5a8eRH1",
        "colab": {
          "base_uri": "https://localhost:8080/"
        },
        "outputId": "ad0c6a69-662a-4f5a-da9c-be38729eb04e"
      },
      "source": [
        "dic={1:'a',2:'b',3:'c'}\n",
        "keys=dic.keys()\n",
        "keys"
      ],
      "execution_count": 45,
      "outputs": [
        {
          "output_type": "execute_result",
          "data": {
            "text/plain": [
              "dict_keys([1, 2, 3])"
            ]
          },
          "metadata": {},
          "execution_count": 45
        }
      ]
    },
    {
      "cell_type": "code",
      "metadata": {
        "id": "oZOhNZYOeWkg",
        "colab": {
          "base_uri": "https://localhost:8080/"
        },
        "outputId": "2269074e-ae44-4b30-b881-49d53e5a2ba8"
      },
      "source": [
        "dic={1:'a',2:'b',3:'c'}\n",
        "values=dic.values()\n",
        "values"
      ],
      "execution_count": 46,
      "outputs": [
        {
          "output_type": "execute_result",
          "data": {
            "text/plain": [
              "dict_values(['a', 'b', 'c'])"
            ]
          },
          "metadata": {},
          "execution_count": 46
        }
      ]
    },
    {
      "cell_type": "markdown",
      "metadata": {
        "id": "RUWGpKHSOJhB"
      },
      "source": [
        "### Conjuntos (Sets)"
      ]
    },
    {
      "cell_type": "code",
      "metadata": {
        "id": "J1ZUc07DecK1",
        "colab": {
          "base_uri": "https://localhost:8080/"
        },
        "outputId": "7084586e-db82-4211-8fdf-513a981e13a4"
      },
      "source": [
        "s={1,2,3}\n",
        "s"
      ],
      "execution_count": 47,
      "outputs": [
        {
          "output_type": "execute_result",
          "data": {
            "text/plain": [
              "{1, 2, 3}"
            ]
          },
          "metadata": {},
          "execution_count": 47
        }
      ]
    },
    {
      "cell_type": "code",
      "metadata": {
        "id": "2CoZCEM9ektC",
        "colab": {
          "base_uri": "https://localhost:8080/"
        },
        "outputId": "717c1fa0-d2f5-4d9a-c0bc-e8935dfb5bd5"
      },
      "source": [
        "s={1,2,3}\n",
        "s.add(5)\n",
        "s.discard(0)\n",
        "s"
      ],
      "execution_count": 48,
      "outputs": [
        {
          "output_type": "execute_result",
          "data": {
            "text/plain": [
              "{1, 2, 3, 5}"
            ]
          },
          "metadata": {},
          "execution_count": 48
        }
      ]
    },
    {
      "cell_type": "code",
      "metadata": {
        "id": "9yXvHAzQe3bw",
        "colab": {
          "base_uri": "https://localhost:8080/"
        },
        "outputId": "fc9af885-a387-42d2-f30c-3dd190c7110a"
      },
      "source": [
        "s={True,3.14,None, False,'Hola mundo',(1,2)}\n",
        "s"
      ],
      "execution_count": 49,
      "outputs": [
        {
          "output_type": "execute_result",
          "data": {
            "text/plain": [
              "{(1, 2), 3.14, False, 'Hola mundo', None, True}"
            ]
          },
          "metadata": {},
          "execution_count": 49
        }
      ]
    },
    {
      "cell_type": "markdown",
      "metadata": {
        "id": "Fu-9K1Xcwyra"
      },
      "source": [
        "## Flujo de control"
      ]
    },
    {
      "cell_type": "markdown",
      "metadata": {
        "id": "t_8nzXjT1Jvf"
      },
      "source": [
        "Python soporta las condiciones lógicas comunes en matemáticas:\n",
        "\n",
        "Igualdad: \t\t\t\t\tmanzana == banana\n",
        "\n",
        "Desigualdad: \t\t\t\tmanzana != banana\n",
        "\n",
        "Menor que: \t\t\t\t\tmanzana < banana\n",
        "\n",
        "Menor o igual a que: \t\tmanzana <= banana\n",
        "\n",
        "Mayor que: \t\t\t\t\tmanzana > banana\n",
        "\n",
        "Mayor o igual que: \t\t\tmanzana >= banana"
      ]
    },
    {
      "cell_type": "markdown",
      "metadata": {
        "id": "UvvMSfrC1Z25"
      },
      "source": [
        "Esas condicionales se pueden utilizar de distintas maneras, de manera muy frecuente en las sentencias if y en los ciclos.\n",
        "\n",
        "Python depende de la identación para definir la ejecución de una sentencia condicional como if. Otros lenguajes de programación utilizan las llaves (“{“ y ”}”, respectivamente) para este propósito."
      ]
    },
    {
      "cell_type": "markdown",
      "metadata": {
        "id": "_61maWoEOceN"
      },
      "source": [
        "### Conditional Statements: if-elif-else"
      ]
    },
    {
      "cell_type": "markdown",
      "metadata": {
        "id": "d5VAzApa3ahN"
      },
      "source": [
        "Podemos hace un condicionamiento doble con if y else, elif de la siguiente manera:\n",
        "a = 200\n",
        "b = 33\n",
        "if b > a:\n",
        "   > print(\"b es más grande que a\")\n",
        "\n",
        "elif b=a:\n",
        "   > print(“b es exactamente igual a a”)\n",
        "   \n",
        "else:\n",
        "   > print(\"b no es más grande que a\")\n",
        "\n",
        "O un condicionamiento simple en una sóla línea:\n",
        "\n",
        "if a > b: print(\"a es mayor que b\")\n"
      ]
    },
    {
      "cell_type": "code",
      "metadata": {
        "id": "yu-AZiO_lMu0",
        "colab": {
          "base_uri": "https://localhost:8080/"
        },
        "outputId": "da3a4934-193b-4312-af6d-8c4e75155e2b"
      },
      "source": [
        "edad=18\n",
        "if edad == 18:\n",
        "  print('Recien eres mayor de edad')\n",
        "elif edad !=18:\n",
        "  print('No eres mayor de edad')\n",
        "else:\n",
        "  print('Eres mayor de edad')"
      ],
      "execution_count": 50,
      "outputs": [
        {
          "output_type": "stream",
          "name": "stdout",
          "text": [
            "Recien eres mayor de edad\n"
          ]
        }
      ]
    },
    {
      "cell_type": "markdown",
      "metadata": {
        "id": "t527s_QS4FDg"
      },
      "source": [
        "# Condicionales: and y or\n",
        "Los operadores booleanos and y or permiten expresiones booleanas complejas como:"
      ]
    },
    {
      "cell_type": "code",
      "metadata": {
        "id": "A6EO_GuZ4Lbj",
        "colab": {
          "base_uri": "https://localhost:8080/"
        },
        "outputId": "75a65cc2-6acc-4c80-c01e-1ee1716a2768"
      },
      "source": [
        "a=[1,2,3]\n",
        "b=[1,2,3]\n",
        "if a and b == [1,2,3]:\n",
        "  print('Tu lista es la correcta')\n",
        "elif a or b == [1,2,3.5]:\n",
        "  print('Tus elementos son incorrectos')"
      ],
      "execution_count": 51,
      "outputs": [
        {
          "output_type": "stream",
          "name": "stdout",
          "text": [
            "Tu lista es la correcta\n"
          ]
        }
      ]
    },
    {
      "cell_type": "markdown",
      "metadata": {
        "id": "PaeIrmE44Wvo"
      },
      "source": [
        "# Condicionales: in y is\n",
        "Los operadores booleanos in y is permiten expresiones booleanas complejas como:"
      ]
    },
    {
      "cell_type": "code",
      "metadata": {
        "id": "KdwJoQoK4YHw",
        "colab": {
          "base_uri": "https://localhost:8080/"
        },
        "outputId": "92e2eab3-6dc3-461b-d55e-ecf7ff2694f5"
      },
      "source": [
        "a=[2,4,6]\n",
        "b=2\n",
        "if (b in a):\n",
        "  print('El valor está dentro de la lista')"
      ],
      "execution_count": 52,
      "outputs": [
        {
          "output_type": "stream",
          "name": "stdout",
          "text": [
            "El valor está dentro de la lista\n"
          ]
        }
      ]
    },
    {
      "cell_type": "code",
      "metadata": {
        "id": "bmiuBUMq49AA",
        "colab": {
          "base_uri": "https://localhost:8080/"
        },
        "outputId": "3a968855-d00b-4cc2-abc1-3901556914ba"
      },
      "source": [
        "a=[2,4,6]\n",
        "b is a\n",
        "if b == a:\n",
        "  print('Ambas listas son identicas')\n",
        "else: \n",
        "  print('Las listas no son identicas')"
      ],
      "execution_count": 53,
      "outputs": [
        {
          "output_type": "stream",
          "name": "stdout",
          "text": [
            "Las listas no son identicas\n"
          ]
        }
      ]
    },
    {
      "cell_type": "markdown",
      "metadata": {
        "id": "itEziK8C5coc"
      },
      "source": [
        "# Ciclos\n",
        "\n",
        "Los ciclos sirven para cursar sobre una secuencia (como una lista, un diccionario o una cadena de caracteres).\n",
        "\n",
        "El ciclo for, por ejemplo, permite ejecutar una conjunto de instrucciones, una para cada elemento en la lista, diccionario o cadena de caracteres que pretendemos leer."
      ]
    },
    {
      "cell_type": "markdown",
      "metadata": {
        "id": "1C5otK3aOcx5"
      },
      "source": [
        "## for loops"
      ]
    },
    {
      "cell_type": "markdown",
      "metadata": {
        "id": "3JSxKnoh5kcS"
      },
      "source": [
        "# Declarando un ciclo for\n",
        "Podemos crear una lista de variables con números primos dentro"
      ]
    },
    {
      "cell_type": "code",
      "metadata": {
        "id": "b7ZmclEElRA2"
      },
      "source": [
        "primos=[2,3,5,7,11]"
      ],
      "execution_count": 54,
      "outputs": []
    },
    {
      "cell_type": "code",
      "metadata": {
        "id": "R-C_5i7vklcr",
        "colab": {
          "base_uri": "https://localhost:8080/"
        },
        "outputId": "7d791ecf-0dcd-4ca3-df55-de7e7ccb163e"
      },
      "source": [
        "for n in primos: \n",
        "  print(n)"
      ],
      "execution_count": 55,
      "outputs": [
        {
          "output_type": "stream",
          "name": "stdout",
          "text": [
            "2\n",
            "3\n",
            "5\n",
            "7\n",
            "11\n"
          ]
        }
      ]
    },
    {
      "cell_type": "code",
      "metadata": {
        "id": "gGztWcX9k0dc",
        "colab": {
          "base_uri": "https://localhost:8080/"
        },
        "outputId": "e082dc89-af72-42af-b546-3b8caff91ea5"
      },
      "source": [
        "pares=[2,4,6,8]\n",
        "for n in pares:\n",
        "  print(n)"
      ],
      "execution_count": 56,
      "outputs": [
        {
          "output_type": "stream",
          "name": "stdout",
          "text": [
            "2\n",
            "4\n",
            "6\n",
            "8\n"
          ]
        }
      ]
    },
    {
      "cell_type": "markdown",
      "metadata": {
        "id": "0SQqMtB9lZYA"
      },
      "source": [
        "### while loops"
      ]
    },
    {
      "cell_type": "code",
      "metadata": {
        "id": "vr0FbT97laxM",
        "colab": {
          "base_uri": "https://localhost:8080/"
        },
        "outputId": "9736ba55-c1f7-439d-94bc-12d3424fdf76"
      },
      "source": [
        "cont=0\n",
        "calendario=['1','2','3']\n",
        "while cont < 3:\n",
        "  print('Hoy es: ' + calendario[cont])\n",
        "  cont += 1"
      ],
      "execution_count": 57,
      "outputs": [
        {
          "output_type": "stream",
          "name": "stdout",
          "text": [
            "Hoy es: 1\n",
            "Hoy es: 2\n",
            "Hoy es: 3\n"
          ]
        }
      ]
    },
    {
      "cell_type": "markdown",
      "metadata": {
        "id": "MwalUZiPlenr"
      },
      "source": [
        "### break and continue: Fine-Tuning Your Loops\n",
        "\n",
        "- `break` se sale del bucle por completo\n",
        "- `continue` omite el resto del ciclo actual y pasa a la siguiente iteración "
      ]
    },
    {
      "cell_type": "code",
      "metadata": {
        "id": "0RUUZQLXlu5y",
        "colab": {
          "base_uri": "https://localhost:8080/"
        },
        "outputId": "289e822a-40e5-44d9-94ad-db9e5b31f16f"
      },
      "source": [
        "n=0\n",
        "for n in range(10):\n",
        "  if n==5:\n",
        "    break\n",
        "  print('El número es: ' + str(n))"
      ],
      "execution_count": 58,
      "outputs": [
        {
          "output_type": "stream",
          "name": "stdout",
          "text": [
            "El número es: 0\n",
            "El número es: 1\n",
            "El número es: 2\n",
            "El número es: 3\n",
            "El número es: 4\n"
          ]
        }
      ]
    },
    {
      "cell_type": "code",
      "metadata": {
        "id": "aRWUGESvlujS",
        "colab": {
          "base_uri": "https://localhost:8080/"
        },
        "outputId": "5041dee4-426f-4cea-851e-79c16d887816"
      },
      "source": [
        "n=0\n",
        "for n in range(10):\n",
        "  if n==5:\n",
        "    continue\n",
        "  print('El número es: ' + str(n))"
      ],
      "execution_count": 59,
      "outputs": [
        {
          "output_type": "stream",
          "name": "stdout",
          "text": [
            "El número es: 0\n",
            "El número es: 1\n",
            "El número es: 2\n",
            "El número es: 3\n",
            "El número es: 4\n",
            "El número es: 6\n",
            "El número es: 7\n",
            "El número es: 8\n",
            "El número es: 9\n"
          ]
        }
      ]
    },
    {
      "cell_type": "markdown",
      "metadata": {
        "id": "vtjA_wmKmKdm"
      },
      "source": [
        "### Loops with an else Block"
      ]
    },
    {
      "cell_type": "code",
      "metadata": {
        "id": "-bbv-WJvmOAY",
        "colab": {
          "base_uri": "https://localhost:8080/"
        },
        "outputId": "52ae897f-5c77-4c96-b991-192ec46417b9"
      },
      "source": [
        "a=3\n",
        "for a in range(4):\n",
        "  if a <= 4:\n",
        "    print('Usted ingreso un valor menor a 4.')\n",
        "  else:\n",
        "    print('Usted ingreso un valor mayor a 4.')"
      ],
      "execution_count": 60,
      "outputs": [
        {
          "output_type": "stream",
          "name": "stdout",
          "text": [
            "Usted ingreso un valor menor a 4.\n",
            "Usted ingreso un valor menor a 4.\n",
            "Usted ingreso un valor menor a 4.\n",
            "Usted ingreso un valor menor a 4.\n"
          ]
        }
      ]
    },
    {
      "cell_type": "markdown",
      "metadata": {
        "id": "l07zEnZew17m"
      },
      "source": [
        "## Funciones"
      ]
    },
    {
      "cell_type": "markdown",
      "metadata": {
        "id": "72TKXLd7maKb"
      },
      "source": [
        "### Key-word arguments"
      ]
    },
    {
      "cell_type": "code",
      "metadata": {
        "id": "JXttHZfOmcw4",
        "colab": {
          "base_uri": "https://localhost:8080/"
        },
        "outputId": "be1e171d-ae95-4fc8-e79a-bd18f756ae88"
      },
      "source": [
        "mi_registro={'Laptops':3,'cellphones':5,'headphones':12}\n",
        "mi_registro"
      ],
      "execution_count": 61,
      "outputs": [
        {
          "output_type": "execute_result",
          "data": {
            "text/plain": [
              "{'Laptops': 3, 'cellphones': 5, 'headphones': 12}"
            ]
          },
          "metadata": {},
          "execution_count": 61
        }
      ]
    },
    {
      "cell_type": "code",
      "metadata": {
        "id": "NJT0eKLannB7",
        "colab": {
          "base_uri": "https://localhost:8080/"
        },
        "outputId": "01a19eee-47b8-4d3f-c076-1b4837b279e8"
      },
      "source": [
        "mi_registro['Laptops']"
      ],
      "execution_count": 62,
      "outputs": [
        {
          "output_type": "execute_result",
          "data": {
            "text/plain": [
              "3"
            ]
          },
          "metadata": {},
          "execution_count": 62
        }
      ]
    },
    {
      "cell_type": "markdown",
      "metadata": {
        "id": "6h4P48jLmtJ8"
      },
      "source": [
        "### Defining Functions"
      ]
    },
    {
      "cell_type": "markdown",
      "metadata": {
        "id": "KBv28tsi6CgD"
      },
      "source": [
        "Las funciones son una manera conveniente de dividir el código en bloques útiles, permitiendo órden, haciéndolo más leíble, reusable y nos permite ser más productivos.\n",
        "\n",
        "Las funciones son una manera muy valiosa de definir interfaces de manera que los y las programadoras pueden compartir su código."
      ]
    },
    {
      "cell_type": "markdown",
      "metadata": {
        "id": "Dh4rCYsG6OYg"
      },
      "source": [
        "### Usamos la palabra def para declarar nuestra función:"
      ]
    },
    {
      "cell_type": "code",
      "metadata": {
        "id": "f8dxrXiH6RDI",
        "colab": {
          "base_uri": "https://localhost:8080/"
        },
        "outputId": "ef4b3bfa-73f3-4e71-f1b9-4d99ca5c146a"
      },
      "source": [
        "\n",
        "def hola_mundo():\n",
        "  print('Hola mundo :)')\n",
        "hola_mundo()"
      ],
      "execution_count": 63,
      "outputs": [
        {
          "output_type": "stream",
          "name": "stdout",
          "text": [
            "Hola mundo :)\n"
          ]
        }
      ]
    },
    {
      "cell_type": "markdown",
      "metadata": {
        "id": "Q2CXVZ5U6VIc"
      },
      "source": [
        "O podemos crear una función con argumentos:\n"
      ]
    },
    {
      "cell_type": "code",
      "metadata": {
        "id": "TmQOIgFz6Vbz",
        "colab": {
          "base_uri": "https://localhost:8080/"
        },
        "outputId": "f68f6cfe-18b3-4e64-d3da-c17f2e6c9d4b"
      },
      "source": [
        "def saludo(nombre):\n",
        "  print('Hola ' + nombre)\n",
        "saludo(nombre='Daniel')"
      ],
      "execution_count": 64,
      "outputs": [
        {
          "output_type": "stream",
          "name": "stdout",
          "text": [
            "Hola Daniel\n"
          ]
        }
      ]
    },
    {
      "cell_type": "markdown",
      "metadata": {
        "id": "SIRGOG_f6r-X"
      },
      "source": [
        "### Podemos crear funciones que regrese valores\n",
        "\n",
        "### Y podemos hacer uso de la función así y guardar el resultado de la ejecución del método en la variable resultado"
      ]
    },
    {
      "cell_type": "code",
      "metadata": {
        "id": "u2OS4BHgmwzW",
        "colab": {
          "base_uri": "https://localhost:8080/"
        },
        "outputId": "af38b4be-cfe7-4508-b58a-1dcfc5bb7c16"
      },
      "source": [
        "def lista_despensa(producto):\n",
        "  print('Usted escogió: ' + producto)\n",
        "lista_despensa(producto='Cereal')"
      ],
      "execution_count": 65,
      "outputs": [
        {
          "output_type": "stream",
          "name": "stdout",
          "text": [
            "Usted escogió: Cereal\n"
          ]
        }
      ]
    },
    {
      "cell_type": "code",
      "metadata": {
        "id": "LwNvsUjYoY9z",
        "colab": {
          "base_uri": "https://localhost:8080/"
        },
        "outputId": "38c5b3b3-1310-4aac-fe92-5be56dfd0ced"
      },
      "source": [
        "def lista_despensa(producto, precio):\n",
        "  print(f'Usted escogió:  {producto} Su precio es de: {precio}')\n",
        "lista_despensa(producto='Cereal', precio=100)"
      ],
      "execution_count": 66,
      "outputs": [
        {
          "output_type": "stream",
          "name": "stdout",
          "text": [
            "Usted escogió:  Cereal Su precio es de: 100\n"
          ]
        }
      ]
    },
    {
      "cell_type": "code",
      "metadata": {
        "id": "vB-nINIhm6EU",
        "colab": {
          "base_uri": "https://localhost:8080/"
        },
        "outputId": "13a494a0-e888-4121-b960-9b7b623043f0"
      },
      "source": [
        "def lista_jugadores(nombre, posicion):\n",
        "  print(f'Jugador:  {nombre} Posición: {posicion}')\n",
        "lista_jugadores(nombre='Daniel', posicion='Medio creativo')"
      ],
      "execution_count": 67,
      "outputs": [
        {
          "output_type": "stream",
          "name": "stdout",
          "text": [
            "Jugador:  Daniel Posición: Medio creativo\n"
          ]
        }
      ]
    },
    {
      "cell_type": "markdown",
      "metadata": {
        "id": "PKDN3o0XmtE5"
      },
      "source": [
        "### DValores default para las funciones"
      ]
    },
    {
      "cell_type": "code",
      "metadata": {
        "id": "gqsPGSNmm-d2",
        "colab": {
          "base_uri": "https://localhost:8080/"
        },
        "outputId": "c9487656-4b3e-46b8-c794-ac250426452f"
      },
      "source": [
        "def suma(a,b=0):\n",
        "  return a+b\n",
        "suma(3,5)"
      ],
      "execution_count": 68,
      "outputs": [
        {
          "output_type": "execute_result",
          "data": {
            "text/plain": [
              "8"
            ]
          },
          "metadata": {},
          "execution_count": 68
        }
      ]
    },
    {
      "cell_type": "code",
      "metadata": {
        "id": "AssngshxpIuK",
        "colab": {
          "base_uri": "https://localhost:8080/"
        },
        "outputId": "8b261dda-497b-4765-ccce-dc694d5d3a0f"
      },
      "source": [
        "def suma(a,b=0):\n",
        "  return a+b\n",
        "suma(3)"
      ],
      "execution_count": 69,
      "outputs": [
        {
          "output_type": "execute_result",
          "data": {
            "text/plain": [
              "3"
            ]
          },
          "metadata": {},
          "execution_count": 69
        }
      ]
    },
    {
      "cell_type": "markdown",
      "metadata": {
        "id": "2rGTAXA6nE1z"
      },
      "source": [
        "### *args and **kwargs: Argumentos Flexibles"
      ]
    },
    {
      "cell_type": "markdown",
      "metadata": {
        "id": "yPfj_v3V--q4"
      },
      "source": [
        "El principal uso de *args y **kwargs es en la definición de funciones. Ambos permiten pasar un número variable de argumentos a una función, por lo que si quieres definir una función cuyo número de parámetros de entrada puede ser variable, considera el uso de *args o **kwargs como una opción.\n",
        "\n",
        "**kwargs permite pasar argumentos de longitud variable asociados con un nombre o key a una función. Deberías usar **kwargs si quieres manejar argumentos con nombre como entrada a una función."
      ]
    },
    {
      "cell_type": "code",
      "metadata": {
        "id": "Co0QS7x_paYD",
        "colab": {
          "base_uri": "https://localhost:8080/"
        },
        "outputId": "3d53986f-d754-4b17-c2eb-6ef21afa28e0"
      },
      "source": [
        "def leer_lista_argumentos(*args):\n",
        "  for count, arg in enumerate(args):\n",
        "    print (count, arg)\n",
        "leer_lista_argumentos('Luis', 'Estudiante')\n",
        "leer_lista_argumentos('Luis', 2,'Estudiante',316286742)"
      ],
      "execution_count": 70,
      "outputs": [
        {
          "output_type": "stream",
          "name": "stdout",
          "text": [
            "0 Luis\n",
            "1 Estudiante\n",
            "0 Luis\n",
            "1 2\n",
            "2 Estudiante\n",
            "3 316286742\n"
          ]
        }
      ]
    },
    {
      "cell_type": "code",
      "metadata": {
        "id": "w-trQukNnFwR",
        "colab": {
          "base_uri": "https://localhost:8080/"
        },
        "outputId": "5b1fa0ac-c30f-48f9-9443-43ed5a405a65"
      },
      "source": [
        "def lugares_invitados(*args):\n",
        "  for count, arg in enumerate(args):\n",
        "    print (count, arg)\n",
        "lugares_invitados('David', 'Eduardo')\n",
        "lugares_invitados('Victor', 'Omar','Abril','Rosa')"
      ],
      "execution_count": 71,
      "outputs": [
        {
          "output_type": "stream",
          "name": "stdout",
          "text": [
            "0 David\n",
            "1 Eduardo\n",
            "0 Victor\n",
            "1 Omar\n",
            "2 Abril\n",
            "3 Rosa\n"
          ]
        }
      ]
    },
    {
      "cell_type": "code",
      "metadata": {
        "id": "W_j78Myxp1ck",
        "colab": {
          "base_uri": "https://localhost:8080/"
        },
        "outputId": "4a1f8c12-e13e-4027-a4a8-67f36226e9ee"
      },
      "source": [
        "def equipos(**kwargs):\n",
        "  for key, value in kwargs.items():\n",
        "    print(key, value)\n",
        "equipos(name1='Cruz Azul', name2='Pumas')\n",
        "equipos(Campeon='Cruz Azul', SubCampeon='Pumas')"
      ],
      "execution_count": 72,
      "outputs": [
        {
          "output_type": "stream",
          "name": "stdout",
          "text": [
            "name1 Cruz Azul\n",
            "name2 Pumas\n",
            "Campeon Cruz Azul\n",
            "SubCampeon Pumas\n"
          ]
        }
      ]
    },
    {
      "cell_type": "markdown",
      "metadata": {
        "id": "5jrMM8Wznc6E"
      },
      "source": [
        "### Funciones lambda"
      ]
    },
    {
      "cell_type": "code",
      "metadata": {
        "id": "RJRIcqWMntw3",
        "colab": {
          "base_uri": "https://localhost:8080/"
        },
        "outputId": "4b7fa3ce-b68f-4092-de1f-edc6f8e0ccf7"
      },
      "source": [
        "def doble(x):\n",
        "  return x*2\n",
        "doble(2)"
      ],
      "execution_count": 73,
      "outputs": [
        {
          "output_type": "execute_result",
          "data": {
            "text/plain": [
              "4"
            ]
          },
          "metadata": {},
          "execution_count": 73
        }
      ]
    },
    {
      "cell_type": "code",
      "metadata": {
        "id": "wF-C3eO6qcwu",
        "colab": {
          "base_uri": "https://localhost:8080/"
        },
        "outputId": "68ce89ec-e361-4451-c508-6575e8f1dbd0"
      },
      "source": [
        "def doble(num):\n",
        "  resultado= num*2\n",
        "  return resultado\n",
        "doble(3)"
      ],
      "execution_count": 74,
      "outputs": [
        {
          "output_type": "execute_result",
          "data": {
            "text/plain": [
              "6"
            ]
          },
          "metadata": {},
          "execution_count": 74
        }
      ]
    },
    {
      "cell_type": "code",
      "metadata": {
        "id": "x0l3_Xj5n0Lh",
        "colab": {
          "base_uri": "https://localhost:8080/"
        },
        "outputId": "63cbc2ae-fe23-4d97-e907-f4e3ee2f07ff"
      },
      "source": [
        "doblar = lambda num: num*2\n",
        "doblar(4)"
      ],
      "execution_count": 2,
      "outputs": [
        {
          "output_type": "execute_result",
          "data": {
            "text/plain": [
              "8"
            ]
          },
          "metadata": {},
          "execution_count": 2
        }
      ]
    },
    {
      "cell_type": "code",
      "metadata": {
        "id": "cRhKsKwh_7_s",
        "colab": {
          "base_uri": "https://localhost:8080/",
          "height": 36
        },
        "outputId": "010446d4-bfc2-4681-f57f-65c8e34f1c65"
      },
      "source": [
        "revertir = lambda cadena: cadena[::-1]\n",
        "revertir('Hola')"
      ],
      "execution_count": 75,
      "outputs": [
        {
          "output_type": "execute_result",
          "data": {
            "text/plain": [
              "'aloH'"
            ],
            "application/vnd.google.colaboratory.intrinsic+json": {
              "type": "string"
            }
          },
          "metadata": {},
          "execution_count": 75
        }
      ]
    },
    {
      "cell_type": "code",
      "metadata": {
        "id": "qYjVjWX1qsdp",
        "colab": {
          "base_uri": "https://localhost:8080/"
        },
        "outputId": "4f4b002a-f069-4aa1-a69c-d46ac8b9aefb"
      },
      "source": [
        "sumar = lambda x,y: x+y\n",
        "sumar(3,6)"
      ],
      "execution_count": 76,
      "outputs": [
        {
          "output_type": "execute_result",
          "data": {
            "text/plain": [
              "9"
            ]
          },
          "metadata": {},
          "execution_count": 76
        }
      ]
    },
    {
      "cell_type": "code",
      "metadata": {
        "id": "LsVF-5j0q277",
        "colab": {
          "base_uri": "https://localhost:8080/"
        },
        "outputId": "f4cca572-9d5b-40d5-a3c2-b2d7931012d8"
      },
      "source": [
        "impar = lambda num: num%2 !=0\n",
        "impar(5)"
      ],
      "execution_count": 77,
      "outputs": [
        {
          "output_type": "execute_result",
          "data": {
            "text/plain": [
              "True"
            ]
          },
          "metadata": {},
          "execution_count": 77
        }
      ]
    },
    {
      "cell_type": "markdown",
      "metadata": {
        "id": "h4_PUhQjDET0"
      },
      "source": [
        "## Buenas prácticas para escribir código Python\n",
        "\n",
        "Las convenciones para escribir código Python se describen en [The PEP 8 Style Guide for Python Code](https://www.python.org/dev/peps/pep-0008/), entre las que encontramos,\n",
        "\n",
        "- Longitud máxima de línea: 79 caracteres.\n",
        "- 4 espacios por nivel de sangría\n",
        "- 'Hanging indentation' para contenido dentro de brackets\n",
        "- Espacio alrededor de operadores\n",
        "- Una expresión po línea"
      ]
    },
    {
      "cell_type": "code",
      "metadata": {
        "id": "TLfQPhZuDor1"
      },
      "source": [
        ""
      ],
      "execution_count": null,
      "outputs": []
    }
  ]
}